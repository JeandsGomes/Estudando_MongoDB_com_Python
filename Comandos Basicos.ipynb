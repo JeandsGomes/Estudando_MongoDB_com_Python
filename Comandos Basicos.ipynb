{
 "cells": [
  {
   "cell_type": "markdown",
   "id": "8dd32515",
   "metadata": {},
   "source": [
    "### Observação !!!\n",
    "Nessas anotações foi utilizada a biblioteca pymongo para manipular o banco de dados por meio do Pyton. Essas anotações foram feitas durante a leitura dos seguintes pousts:\n",
    "\n",
    "### Referencias:\n",
    "* [CRUD operations in MongoDB using python](https://medium.com/analytics-vidhya/crud-operations-in-mongodb-using-python-49b7850d627e)\n",
    "* [MongoDB Manual](https://www.mongodb.com/docs/manual/core/document/)"
   ]
  },
  {
   "cell_type": "code",
   "execution_count": 1,
   "id": "a075aab8",
   "metadata": {},
   "outputs": [],
   "source": [
    "import pymongo"
   ]
  },
  {
   "cell_type": "markdown",
   "id": "c8dd0936",
   "metadata": {},
   "source": [
    "### Introdução"
   ]
  },
  {
   "cell_type": "markdown",
   "id": "da0c7628",
   "metadata": {},
   "source": [
    "MongoDB stores data records as BSON documents. BSON is a binary representation of JSON documents, though it contains more data types than JSON."
   ]
  },
  {
   "cell_type": "markdown",
   "id": "74ae8e42",
   "metadata": {},
   "source": [
    "### Conexão com o servidor"
   ]
  },
  {
   "cell_type": "code",
   "execution_count": 2,
   "id": "000b22ba",
   "metadata": {},
   "outputs": [],
   "source": [
    "# Vamos definir uma variável chamada connection_url\n",
    "# para armazenar a URL de conexão do MongoDB\n",
    "connection_url = \"mongodb://localhost:27017\" # 27017 é o numero de porta padrão para o mongodb"
   ]
  },
  {
   "cell_type": "code",
   "execution_count": 3,
   "id": "33c2edcb",
   "metadata": {},
   "outputs": [],
   "source": [
    "# Para se conectar com o MongoDB server, nos vammos\n",
    "# usar o MongoClient.\n",
    "client = pymongo.MongoClient(connection_url)"
   ]
  },
  {
   "cell_type": "markdown",
   "id": "dc038e27",
   "metadata": {},
   "source": [
    "### Lendo o nome das bases de dados"
   ]
  },
  {
   "cell_type": "code",
   "execution_count": 4,
   "id": "6304f57b",
   "metadata": {},
   "outputs": [
    {
     "name": "stdout",
     "output_type": "stream",
     "text": [
      "['Reconhecimento_Facial', 'admin', 'amigos_da_comunidade', 'config', 'local', 'student_database', 'teste_bd']\n"
     ]
    }
   ],
   "source": [
    "# Usando o objeto cliente, nos podemos acessar as\n",
    "# bases de dados. Para isso usamos o\n",
    "# list_database_names().\n",
    "print(client.list_database_names())"
   ]
  },
  {
   "cell_type": "markdown",
   "id": "536d82e2",
   "metadata": {},
   "source": [
    "### Criando base de dados"
   ]
  },
  {
   "cell_type": "code",
   "execution_count": 5,
   "id": "aa9e8bcc",
   "metadata": {},
   "outputs": [],
   "source": [
    "# Voce pode criar uma base de dados usando o comando\n",
    "# a baixo.\n",
    "database_name = \"student_database\"\n",
    "student_db = client[database_name]"
   ]
  },
  {
   "cell_type": "code",
   "execution_count": 6,
   "id": "f90ab84b",
   "metadata": {},
   "outputs": [],
   "source": [
    "# A base de dados so podera ser visivel caso\n",
    "# voce adicione algum documento a ele.\n",
    "# Para criar um documento precisamos criar uma coleção\n",
    "#  onde vamos armazena o documento.\n",
    "collection_name = \"computer science\"\n",
    "collection = student_db[collection_name]"
   ]
  },
  {
   "cell_type": "markdown",
   "id": "b1ef3b64",
   "metadata": {},
   "source": [
    "### Ler as coleções dentro das bases de dados"
   ]
  },
  {
   "cell_type": "code",
   "execution_count": 7,
   "id": "4b1602b5",
   "metadata": {},
   "outputs": [
    {
     "name": "stdout",
     "output_type": "stream",
     "text": [
      "['test_sort', 'computer science']\n"
     ]
    }
   ],
   "source": [
    "# ?? É possivel ver a lista de collections na base de dados\n",
    "# usando o seguinte comando ??\n",
    "print(student_db.list_collection_names())"
   ]
  },
  {
   "cell_type": "markdown",
   "id": "0187ec8b",
   "metadata": {},
   "source": [
    "### Inserir documentos nas coleções"
   ]
  },
  {
   "cell_type": "code",
   "execution_count": 8,
   "id": "2f3bfed4",
   "metadata": {},
   "outputs": [
    {
     "data": {
      "text/plain": [
       "<pymongo.results.InsertOneResult at 0x23bba087d80>"
      ]
     },
     "execution_count": 8,
     "metadata": {},
     "output_type": "execute_result"
    }
   ],
   "source": [
    "# Inserir documentos nas coleções\n",
    "# Podemos fazer isso de duas formas\n",
    "# 1. Inserirndo apenas um documento na coleção\n",
    "# 2. Inserindo varios documentos na coleção\n",
    "\n",
    "# Para o 1° caso usamos o comando inser_one()\n",
    "document = {'Name':'Raj',\n",
    "            'Roll No': 153,\n",
    "            'Branch': 'CSE'}\n",
    "collection.insert_one(document)"
   ]
  },
  {
   "cell_type": "code",
   "execution_count": 9,
   "id": "014359eb",
   "metadata": {},
   "outputs": [
    {
     "data": {
      "text/plain": [
       "<pymongo.results.InsertManyResult at 0x23bba08dd40>"
      ]
     },
     "execution_count": 9,
     "metadata": {},
     "output_type": "execute_result"
    }
   ],
   "source": [
    "#Inserir varios\n",
    "documents = [{'Name':'Raj','Roll No': 153,\n",
    "            'Branch': 'CSE'},{'Name':'Jeands',\n",
    "            'Roll No': 50,'Branch': 'BRA'},\n",
    "             {'Name':'Folote','Roll No': 70,\n",
    "            'Branch': 'EUA'}]\n",
    "collection.insert_many(documents)\n"
   ]
  },
  {
   "cell_type": "markdown",
   "id": "c5a74876",
   "metadata": {},
   "source": [
    "### Como contar o número total de documentos na coleção"
   ]
  },
  {
   "cell_type": "code",
   "execution_count": 10,
   "id": "ddc84237",
   "metadata": {},
   "outputs": [
    {
     "data": {
      "text/plain": [
       "21"
      ]
     },
     "execution_count": 10,
     "metadata": {},
     "output_type": "execute_result"
    }
   ],
   "source": [
    "collection.count_documents({})"
   ]
  },
  {
   "cell_type": "code",
   "execution_count": 11,
   "id": "cde825c9",
   "metadata": {},
   "outputs": [],
   "source": [
    "database_name = \"student_database\"\n",
    "student_db = client[database_name]\n",
    "collection_name = \"teste_0_documents\"\n",
    "collection = student_db[collection_name]"
   ]
  },
  {
   "cell_type": "code",
   "execution_count": 12,
   "id": "04e8eb15",
   "metadata": {},
   "outputs": [
    {
     "data": {
      "text/plain": [
       "0"
      ]
     },
     "execution_count": 12,
     "metadata": {},
     "output_type": "execute_result"
    }
   ],
   "source": [
    "collection.count_documents({})"
   ]
  },
  {
   "cell_type": "markdown",
   "id": "87e29cc5",
   "metadata": {},
   "source": [
    "### Ler (Recuperar)\n",
    "\n",
    "Um usuario tambem pode dar um id_customizado ao inserir o documento. Recuperar dados de uma coleção.\n",
    "\n",
    "A recuperação de dados pode ser feita de duas maneiras:\n",
    "  1. Recuperando apenas um documento\n",
    "  2. Recuperando varios documentos\n"
   ]
  },
  {
   "cell_type": "code",
   "execution_count": 13,
   "id": "fd87de28",
   "metadata": {},
   "outputs": [],
   "source": [
    "database_name = \"student_database\"\n",
    "student_db = client[database_name]\n",
    "collection_name = \"computer science\"\n",
    "collection = student_db[collection_name]"
   ]
  },
  {
   "cell_type": "code",
   "execution_count": 14,
   "id": "ca4e4f10",
   "metadata": {},
   "outputs": [
    {
     "name": "stdout",
     "output_type": "stream",
     "text": [
      "{'_id': ObjectId('632af6207452b0aa54c6ea7f'), 'Name': 'Raj', 'Roll No': 153, 'Branch': 'CSE'}\n"
     ]
    }
   ],
   "source": [
    "# No primeiro caso usamo o comando find_one(), e\n",
    "# fornecemos parametros paraconsultar do documento\n",
    "# esperado.\n",
    "query = {\"Name\":\"Raj\"}\n",
    "print(collection.find_one(query))"
   ]
  },
  {
   "cell_type": "code",
   "execution_count": 21,
   "id": "173845b1",
   "metadata": {},
   "outputs": [
    {
     "name": "stdout",
     "output_type": "stream",
     "text": [
      "{'_id': ObjectId('61f541cb8d5d0fac2d7b89e9'), 'Name': 'Jeands', 'Roll No': 50, 'Branch': 'BRA'}\n",
      "{'_id': ObjectId('632af6267452b0aa54c6ea81'), 'Name': 'Jeands', 'Roll No': 50, 'Branch': 'BRA'}\n",
      "{'_id': ObjectId('632afa9b7452b0aa54c6ea86'), 'Name': 'Jeands', 'Roll No': 50, 'Branch': 'BRA'}\n",
      "{'_id': ObjectId('632e7111ae97f78cc40e75f9'), 'Name': 'Jeands', 'Roll No': 50, 'Branch': 'BRA'}\n",
      "{'_id': ObjectId('632f527ac2fa228d2b529508'), 'Name': 'Jeands', 'Roll No': 50, 'Branch': 'BRA'}\n"
     ]
    }
   ],
   "source": [
    "# No seguindo caso usamos o comando find_many(), o\n",
    "# retorno dessa função é um objeto cursor, sendo assim\n",
    "# podemos usar um loop para acessar as informações:\n",
    "query = {\"Branch\":\"BRA\"}\n",
    "result = collection.find(query)\n",
    "dict_result = list(result)\n",
    "for i in dict_result:\n",
    "    print(i)"
   ]
  },
  {
   "cell_type": "code",
   "execution_count": 27,
   "id": "a47945e4",
   "metadata": {},
   "outputs": [
    {
     "name": "stdout",
     "output_type": "stream",
     "text": [
      "<class 'dict'>\n"
     ]
    }
   ],
   "source": [
    "print(type(dict_result[0]))"
   ]
  },
  {
   "cell_type": "code",
   "execution_count": 16,
   "id": "3828f2e5",
   "metadata": {},
   "outputs": [
    {
     "name": "stdout",
     "output_type": "stream",
     "text": [
      "{'_id': ObjectId('61f3ee3f57be86eefac5ad59'), 'Name': 'Raj', 'Roll No': 153, 'Branch': 'CSE'}\n"
     ]
    }
   ],
   "source": [
    "# Você pode itilisar como filtro os operadores gt,\n",
    "# lt, eq e etc.\n",
    "#\"$eq\" = Valor iguala ao especificado\n",
    "query = {\"Roll No\":{\"$eq\":153}}\n",
    "print(collection.find_one(query))"
   ]
  },
  {
   "cell_type": "code",
   "execution_count": 17,
   "id": "c8383d10",
   "metadata": {},
   "outputs": [
    {
     "name": "stdout",
     "output_type": "stream",
     "text": [
      "{'_id': ObjectId('61f3ee3f57be86eefac5ad59'), 'Name': 'Raj', 'Roll No': 153, 'Branch': 'CSE'}\n"
     ]
    }
   ],
   "source": [
    "#\"$gt\" =  Maior que o valor especificado\n",
    "query = {\"Roll No\":{\"$gt\":50}}\n",
    "print(collection.find_one(query))"
   ]
  },
  {
   "cell_type": "code",
   "execution_count": 18,
   "id": "ec8afc2f",
   "metadata": {},
   "outputs": [
    {
     "name": "stdout",
     "output_type": "stream",
     "text": [
      "{'_id': ObjectId('61f3ee3f57be86eefac5ad59'), 'Name': 'Raj', 'Roll No': 153, 'Branch': 'CSE'}\n"
     ]
    }
   ],
   "source": [
    "#\"$gte\" =  Maior ou igual ao valor especificado\n",
    "query = {\"Roll No\":{\"$gte\":153}}\n",
    "print(collection.find_one(query))"
   ]
  },
  {
   "cell_type": "code",
   "execution_count": 19,
   "id": "d5b22c3f",
   "metadata": {},
   "outputs": [
    {
     "name": "stdout",
     "output_type": "stream",
     "text": [
      "{'_id': ObjectId('61f3ee3f57be86eefac5ad5b'), 'Name': 'Jeands', 'Roll No': 50, 'Branch': 'BRA'}\n"
     ]
    }
   ],
   "source": [
    "#\"$lt\" =  Menor que o valor especificado\n",
    "query = {\"Roll No\": {\"$lt\":70}}\n",
    "print(collection.find_one(query))"
   ]
  },
  {
   "cell_type": "code",
   "execution_count": 20,
   "id": "3fb27498",
   "metadata": {},
   "outputs": [
    {
     "name": "stdout",
     "output_type": "stream",
     "text": [
      "{'_id': ObjectId('61f3ee3f57be86eefac5ad5b'), 'Name': 'Jeands', 'Roll No': 50, 'Branch': 'BRA'}\n"
     ]
    }
   ],
   "source": [
    "#\"$lte\" =  Menor ou igual ao valor especificado\n",
    "query = {\"Roll No\": {\"$lte\":50}}\n",
    "print(collection.find_one(query))"
   ]
  },
  {
   "cell_type": "markdown",
   "id": "ca5a894f",
   "metadata": {},
   "source": [
    "### Obter os ducmentos de maneira ordenada"
   ]
  },
  {
   "cell_type": "code",
   "execution_count": 40,
   "id": "b57bc135",
   "metadata": {},
   "outputs": [],
   "source": [
    "database_name = \"student_database\"\n",
    "student_db = client[database_name]\n",
    "collection_name = \"test_sort\"\n",
    "collection = student_db[collection_name]"
   ]
  },
  {
   "cell_type": "code",
   "execution_count": 41,
   "id": "85460d37",
   "metadata": {},
   "outputs": [
    {
     "data": {
      "text/plain": [
       "<pymongo.results.InsertManyResult at 0x2606e55b4c0>"
      ]
     },
     "execution_count": 41,
     "metadata": {},
     "output_type": "execute_result"
    }
   ],
   "source": [
    "documents = [{'nome': 'Jeands','idade': 22},\n",
    "             {'nome': 'Gabriel','idade': 19},\n",
    "             {'nome': 'Italo','idade': 20}]\n",
    "collection.insert_many(documents)"
   ]
  },
  {
   "cell_type": "code",
   "execution_count": 43,
   "id": "1526ef11",
   "metadata": {},
   "outputs": [
    {
     "data": {
      "text/plain": [
       "3"
      ]
     },
     "execution_count": 43,
     "metadata": {},
     "output_type": "execute_result"
    }
   ],
   "source": [
    "collection.count_documents({})"
   ]
  },
  {
   "cell_type": "markdown",
   "id": "78188bbf",
   "metadata": {},
   "source": [
    "### Decrescente"
   ]
  },
  {
   "cell_type": "code",
   "execution_count": 54,
   "id": "01e23e45",
   "metadata": {},
   "outputs": [],
   "source": [
    "result = collection.find().sort(\"idade\", pymongo.DESCENDING)"
   ]
  },
  {
   "cell_type": "code",
   "execution_count": 56,
   "id": "d6d7cb21",
   "metadata": {},
   "outputs": [
    {
     "name": "stdout",
     "output_type": "stream",
     "text": [
      "{'_id': ObjectId('632afb797452b0aa54c6ea88'), 'nome': 'Jeands', 'idade': 22}\n",
      "{'_id': ObjectId('632afb797452b0aa54c6ea8a'), 'nome': 'Italo', 'idade': 20}\n",
      "{'_id': ObjectId('632afb797452b0aa54c6ea89'), 'nome': 'Gabriel', 'idade': 19}\n"
     ]
    }
   ],
   "source": [
    "for i in result:\n",
    "    print(i)"
   ]
  },
  {
   "cell_type": "markdown",
   "id": "2ea9dcd5",
   "metadata": {},
   "source": [
    "### Crescente"
   ]
  },
  {
   "cell_type": "code",
   "execution_count": 59,
   "id": "978816eb",
   "metadata": {},
   "outputs": [],
   "source": [
    "result = collection.find().sort(\"idade\", pymongo.ASCENDING)"
   ]
  },
  {
   "cell_type": "code",
   "execution_count": 60,
   "id": "36b6213f",
   "metadata": {},
   "outputs": [
    {
     "name": "stdout",
     "output_type": "stream",
     "text": [
      "{'_id': ObjectId('632afb797452b0aa54c6ea89'), 'nome': 'Gabriel', 'idade': 19}\n",
      "{'_id': ObjectId('632afb797452b0aa54c6ea8a'), 'nome': 'Italo', 'idade': 20}\n",
      "{'_id': ObjectId('632afb797452b0aa54c6ea88'), 'nome': 'Jeands', 'idade': 22}\n"
     ]
    }
   ],
   "source": [
    "for i in result:\n",
    "    print(i)"
   ]
  },
  {
   "cell_type": "markdown",
   "id": "4656beed",
   "metadata": {},
   "source": [
    "### Mostrar apenas o primeiro"
   ]
  },
  {
   "cell_type": "code",
   "execution_count": 67,
   "id": "55514317",
   "metadata": {},
   "outputs": [],
   "source": [
    "result = collection.find().sort(\"idade\", pymongo.ASCENDING).limit(1)"
   ]
  },
  {
   "cell_type": "code",
   "execution_count": 68,
   "id": "e6f54cec",
   "metadata": {},
   "outputs": [
    {
     "name": "stdout",
     "output_type": "stream",
     "text": [
      "{'_id': ObjectId('632afb797452b0aa54c6ea89'), 'nome': 'Gabriel', 'idade': 19}\n"
     ]
    }
   ],
   "source": [
    "print(result[0])"
   ]
  },
  {
   "cell_type": "markdown",
   "id": "9512e643",
   "metadata": {},
   "source": [
    "### Atuializar\n",
    "\n",
    "Atualizar o documento dentro da coleção Podemos atualizar de duas foras:\n",
    "  1. Atualizando um unico documento\n",
    "  2. Atualizando varios documentos"
   ]
  },
  {
   "cell_type": "code",
   "execution_count": null,
   "id": "64fe3f07",
   "metadata": {},
   "outputs": [],
   "source": []
  },
  {
   "cell_type": "code",
   "execution_count": 21,
   "id": "84f46ee6",
   "metadata": {},
   "outputs": [
    {
     "data": {
      "text/plain": [
       "<pymongo.results.UpdateResult at 0x18e41c08240>"
      ]
     },
     "execution_count": 21,
     "metadata": {},
     "output_type": "execute_result"
    }
   ],
   "source": [
    "# Um documento:\n",
    "# Para atualizar precisamos de 2 parametros, o\n",
    "# o primeiro parametro é o resultado da consulta\n",
    "# realizada do documento que deseja atualizar e o\n",
    "# segundo é o parametro de atualização.\n",
    "query = {\"Roll No\":{\"$eq\":153}}\n",
    "present_data = collection.find_one(query)\n",
    "new_data = {'$set':{\"Name\":'Jeronimo'}}\n",
    "collection.update_one(present_data,new_data)"
   ]
  },
  {
   "cell_type": "code",
   "execution_count": 22,
   "id": "02e05220",
   "metadata": {},
   "outputs": [
    {
     "data": {
      "text/plain": [
       "<pymongo.results.UpdateResult at 0x18e41b8e700>"
      ]
     },
     "execution_count": 22,
     "metadata": {},
     "output_type": "execute_result"
    }
   ],
   "source": [
    "# Muitos documentos\n",
    "present_data = {\"Branch\":\"CSE\"}\n",
    "new_data = {\"$set\":{\"Branch\":'ECE'}}\n",
    "collection.update_many(present_data,new_data)"
   ]
  },
  {
   "cell_type": "markdown",
   "id": "b3fd3444",
   "metadata": {},
   "source": [
    "### Remover\n",
    "\n",
    "Remover um documento de uma coleção Podemos remover um document de duas formas: \n",
    "  1. Removendo 1 documento\n",
    "  2. Atualizando varios documentos"
   ]
  },
  {
   "cell_type": "code",
   "execution_count": 23,
   "id": "332094a6",
   "metadata": {},
   "outputs": [
    {
     "data": {
      "text/plain": [
       "<pymongo.results.DeleteResult at 0x18e4211d2c0>"
      ]
     },
     "execution_count": 23,
     "metadata": {},
     "output_type": "execute_result"
    }
   ],
   "source": [
    "#Remover um:\n",
    "query = {\"Roll No\": 153}\n",
    "collection.delete_one(query)"
   ]
  },
  {
   "cell_type": "code",
   "execution_count": 24,
   "id": "9679ac85",
   "metadata": {},
   "outputs": [
    {
     "data": {
      "text/plain": [
       "<pymongo.results.DeleteResult at 0x18e42200a00>"
      ]
     },
     "execution_count": 24,
     "metadata": {},
     "output_type": "execute_result"
    }
   ],
   "source": [
    "# Revomer varios:\n",
    "query = {\"Branch\":\"CSE\"}\n",
    "collection.delete_many(query)"
   ]
  },
  {
   "cell_type": "code",
   "execution_count": 25,
   "id": "8d0080fc",
   "metadata": {},
   "outputs": [],
   "source": [
    "# Removendo a coleção de dados\n",
    "# Basta apenas usar o comando .drop()\n",
    "collection.drop()"
   ]
  },
  {
   "cell_type": "code",
   "execution_count": null,
   "id": "b3fa58c1",
   "metadata": {},
   "outputs": [],
   "source": []
  },
  {
   "cell_type": "markdown",
   "id": "3663d159",
   "metadata": {},
   "source": [
    "### Verificar a quantidade de ram consumida por sua coleção e indices\n",
    "O MongoDB tem um melhor desempenho quando sua coleção e índices mais utilizados cabem completamente anmemória RAM do seu servidor. Vara verificar o consumo utilizamos a função stats()"
   ]
  },
  {
   "cell_type": "code",
   "execution_count": null,
   "id": "36438b0e",
   "metadata": {},
   "outputs": [],
   "source": []
  }
 ],
 "metadata": {
  "kernelspec": {
   "display_name": "Python 3 (ipykernel)",
   "language": "python",
   "name": "python3"
  },
  "language_info": {
   "codemirror_mode": {
    "name": "ipython",
    "version": 3
   },
   "file_extension": ".py",
   "mimetype": "text/x-python",
   "name": "python",
   "nbconvert_exporter": "python",
   "pygments_lexer": "ipython3",
   "version": "3.9.7"
  }
 },
 "nbformat": 4,
 "nbformat_minor": 5
}
