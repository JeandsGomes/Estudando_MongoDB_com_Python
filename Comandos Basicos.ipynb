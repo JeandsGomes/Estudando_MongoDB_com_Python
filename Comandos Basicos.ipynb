{
 "cells": [
  {
   "cell_type": "code",
   "execution_count": 1,
   "id": "a075aab8",
   "metadata": {},
   "outputs": [],
   "source": [
    "import pymongo"
   ]
  },
  {
   "cell_type": "code",
   "execution_count": 2,
   "id": "000b22ba",
   "metadata": {},
   "outputs": [],
   "source": [
    "# Vamos definir uma variável chamada connection_url\n",
    "# para armazenar a URL de conexão do MongoDB\n",
    "connection_url = \"mongodb://localhost:27017\" # 27017 é o numero de porta padrão para o mongodb"
   ]
  },
  {
   "cell_type": "code",
   "execution_count": 3,
   "id": "33c2edcb",
   "metadata": {},
   "outputs": [],
   "source": [
    "# Para se conectar com o MongoDB server, nos vammos\n",
    "# usar o MongoClient.\n",
    "client = pymongo.MongoClient(connection_url)"
   ]
  },
  {
   "cell_type": "code",
   "execution_count": 4,
   "id": "6304f57b",
   "metadata": {},
   "outputs": [
    {
     "name": "stdout",
     "output_type": "stream",
     "text": [
      "['Reconhecimento_Facial', 'admin', 'config', 'local']\n"
     ]
    }
   ],
   "source": [
    "# Usando o objeto cliente, nos podemos acessar as\n",
    "# bases de dados. Para isso usamos o\n",
    "# list_database_names().\n",
    "print(client.list_database_names())"
   ]
  },
  {
   "cell_type": "code",
   "execution_count": 5,
   "id": "aa9e8bcc",
   "metadata": {},
   "outputs": [],
   "source": [
    "# Voce pode criar uma base de dados usando o comando\n",
    "# a baixo.\n",
    "database_name = \"student_database\"\n",
    "student_db = client[database_name]"
   ]
  },
  {
   "cell_type": "code",
   "execution_count": 6,
   "id": "f90ab84b",
   "metadata": {},
   "outputs": [],
   "source": [
    "# A base de dados so podera ser visivel caso\n",
    "# voce adicione algum documento a ele.\n",
    "# Para criar um documento precisamos criar uma coleção\n",
    "#  onde vamos armazena o documento.\n",
    "collection_name = \"computer science\"\n",
    "collection = student_db[collection_name]"
   ]
  },
  {
   "cell_type": "code",
   "execution_count": 7,
   "id": "4b1602b5",
   "metadata": {},
   "outputs": [
    {
     "name": "stdout",
     "output_type": "stream",
     "text": [
      "[]\n"
     ]
    }
   ],
   "source": [
    "# ?? É possivel ver a lista de collections na base de dados\n",
    "# usando o seguinte comando ??\n",
    "print(student_db.list_collection_names())"
   ]
  },
  {
   "cell_type": "code",
   "execution_count": 8,
   "id": "2f3bfed4",
   "metadata": {},
   "outputs": [
    {
     "data": {
      "text/plain": [
       "<pymongo.results.InsertOneResult at 0x1e7ecbf0a00>"
      ]
     },
     "execution_count": 8,
     "metadata": {},
     "output_type": "execute_result"
    }
   ],
   "source": [
    "# Inserir documentos nas coleções\n",
    "# Podemos fazer isso de duas formas\n",
    "# 1. Inserirndo apenas um documento na coleção\n",
    "# 2. Inserindo varios documentos na coleção\n",
    "\n",
    "# Para o 1° caso usamos o comando inser_one()\n",
    "document = {'Name':'Raj',\n",
    "            'Roll No': 153,\n",
    "            'Branch': 'CSE'}\n",
    "collection.insert_one(document)"
   ]
  },
  {
   "cell_type": "code",
   "execution_count": 9,
   "id": "014359eb",
   "metadata": {},
   "outputs": [
    {
     "data": {
      "text/plain": [
       "<pymongo.results.InsertManyResult at 0x1e7ed1c0600>"
      ]
     },
     "execution_count": 9,
     "metadata": {},
     "output_type": "execute_result"
    }
   ],
   "source": [
    "#Inserir varios\n",
    "documents = [{'Name':'Raj','Roll No': 153,\n",
    "            'Branch': 'CSE'},{'Name':'Jeands',\n",
    "            'Roll No': 50,'Branch': 'BRA'},\n",
    "             {'Name':'Folote','Roll No': 70,\n",
    "            'Branch': 'EUA'}]\n",
    "collection.insert_many(documents)\n"
   ]
  },
  {
   "cell_type": "markdown",
   "id": "87e29cc5",
   "metadata": {},
   "source": [
    "Um usuario tambem pode dar um id_customizado ao inserir o documento. Recuperar dados de uma coleção.\n",
    "\n",
    "A recuperação de dados pode ser feita de duas maneiras:\n",
    "  1. Recuperando apenas um documento\n",
    "  2. Recuperando varios documentos\n"
   ]
  },
  {
   "cell_type": "code",
   "execution_count": 11,
   "id": "ca4e4f10",
   "metadata": {},
   "outputs": [
    {
     "name": "stdout",
     "output_type": "stream",
     "text": [
      "{'_id': ObjectId('61f29d1448f4c61a7e79d317'), 'Name': 'Raj', 'Roll No': 153, 'Branch': 'CSE'}\n"
     ]
    }
   ],
   "source": [
    "# No primeiro caso usamo o comando find_one(), e\n",
    "# fornecemos parametros paraconsultar do documento\n",
    "# esperado.\n",
    "query = {\"Name\":\"Raj\"}\n",
    "print(collection.find_one(query))"
   ]
  },
  {
   "cell_type": "code",
   "execution_count": 12,
   "id": "173845b1",
   "metadata": {},
   "outputs": [
    {
     "name": "stdout",
     "output_type": "stream",
     "text": [
      "{'_id': ObjectId('61f29d1448f4c61a7e79d317'), 'Name': 'Raj', 'Roll No': 153, 'Branch': 'CSE'}\n",
      "{'_id': ObjectId('61f29d2448f4c61a7e79d318'), 'Name': 'Raj', 'Roll No': 153, 'Branch': 'CSE'}\n"
     ]
    }
   ],
   "source": [
    "# No seguindo caso usamos o comando find_many(), o\n",
    "# retorno dessa função é um objeto cursor, sendo assim\n",
    "# podemos usar um loop para acessar as informações:\n",
    "query = {\"Branch\":\"CSE\"}\n",
    "result = collection.find(query)\n",
    "for i in result:\n",
    "    print(i)"
   ]
  },
  {
   "cell_type": "code",
   "execution_count": 13,
   "id": "3828f2e5",
   "metadata": {},
   "outputs": [
    {
     "name": "stdout",
     "output_type": "stream",
     "text": [
      "{'_id': ObjectId('61f29d1448f4c61a7e79d317'), 'Name': 'Raj', 'Roll No': 153, 'Branch': 'CSE'}\n"
     ]
    }
   ],
   "source": [
    "# VOce pode itilisar como filtro os operadores gt,\n",
    "# lt, eq e etc.\n",
    "#\"$eq\" = Valor iguala ao especificado\n",
    "query = {\"Roll No\":{\"$eq\":153}}\n",
    "print(collection.find_one(query))"
   ]
  },
  {
   "cell_type": "code",
   "execution_count": 14,
   "id": "c8383d10",
   "metadata": {},
   "outputs": [
    {
     "name": "stdout",
     "output_type": "stream",
     "text": [
      "{'_id': ObjectId('61f29d1448f4c61a7e79d317'), 'Name': 'Raj', 'Roll No': 153, 'Branch': 'CSE'}\n"
     ]
    }
   ],
   "source": [
    "#\"$gt\" =  Maior que o valor especificado\n",
    "query = {\"Roll No\":{\"$gt\":50}}\n",
    "print(collection.find_one(query))"
   ]
  },
  {
   "cell_type": "code",
   "execution_count": 15,
   "id": "ec8afc2f",
   "metadata": {},
   "outputs": [
    {
     "name": "stdout",
     "output_type": "stream",
     "text": [
      "{'_id': ObjectId('61f29d1448f4c61a7e79d317'), 'Name': 'Raj', 'Roll No': 153, 'Branch': 'CSE'}\n"
     ]
    }
   ],
   "source": [
    "#\"$gte\" =  Maior ou igual ao valor especificado\n",
    "query = {\"Roll No\":{\"$gte\":153}}\n",
    "print(collection.find_one(query))"
   ]
  },
  {
   "cell_type": "code",
   "execution_count": 16,
   "id": "d5b22c3f",
   "metadata": {},
   "outputs": [
    {
     "name": "stdout",
     "output_type": "stream",
     "text": [
      "{'_id': ObjectId('61f29d2448f4c61a7e79d319'), 'Name': 'Jeands', 'Roll No': 50, 'Branch': 'BRA'}\n"
     ]
    }
   ],
   "source": [
    "#\"$lt\" =  Menor que o valor especificado\n",
    "query = {\"Roll No\": {\"$lt\":70}}\n",
    "print(collection.find_one(query))"
   ]
  },
  {
   "cell_type": "code",
   "execution_count": 18,
   "id": "3fb27498",
   "metadata": {},
   "outputs": [
    {
     "name": "stdout",
     "output_type": "stream",
     "text": [
      "{'_id': ObjectId('61f29d2448f4c61a7e79d319'), 'Name': 'Jeands', 'Roll No': 50, 'Branch': 'BRA'}\n"
     ]
    }
   ],
   "source": [
    "#\"$lte\" =  Menor ou igual ao valor especificado\n",
    "query = {\"Roll No\": {\"$lte\":50}}\n",
    "print(collection.find_one(query))"
   ]
  },
  {
   "cell_type": "markdown",
   "id": "9512e643",
   "metadata": {},
   "source": [
    "Atualizar o documento dentro da coleção Podemos atualizar de duas foras:\n",
    "  1. Atualizando um unico documento\n",
    "  2. Atualizando varios documentos"
   ]
  },
  {
   "cell_type": "code",
   "execution_count": 19,
   "id": "84f46ee6",
   "metadata": {},
   "outputs": [
    {
     "data": {
      "text/plain": [
       "<pymongo.results.UpdateResult at 0x1e7ed0945c0>"
      ]
     },
     "execution_count": 19,
     "metadata": {},
     "output_type": "execute_result"
    }
   ],
   "source": [
    "# Um documento:\n",
    "# Para atualizar precisamos de 2 parametros, o\n",
    "# o primeiro parametro é o resultado da consulta\n",
    "# realizada do documento que deseja atualizar e o\n",
    "# segundo é o parametro de atualização.\n",
    "query = {\"Roll No\":{\"$eq\":153}}\n",
    "present_data = collection.find_one(query)\n",
    "new_data = {'$set':{\"Name\":'Jeronimo'}}\n",
    "collection.update_one(present_data,new_data)"
   ]
  },
  {
   "cell_type": "code",
   "execution_count": 20,
   "id": "02e05220",
   "metadata": {},
   "outputs": [
    {
     "data": {
      "text/plain": [
       "<pymongo.results.UpdateResult at 0x1e7ed2046c0>"
      ]
     },
     "execution_count": 20,
     "metadata": {},
     "output_type": "execute_result"
    }
   ],
   "source": [
    "# Muitos documentos\n",
    "present_data = {\"Branch\":\"CSE\"}\n",
    "new_data = {\"$set\":{\"Branch\":'ECE'}}\n",
    "collection.update_many(present_data,new_data)"
   ]
  },
  {
   "cell_type": "markdown",
   "id": "b3fd3444",
   "metadata": {},
   "source": [
    "Remover um documento de uma coleção Podemos remover um document de duas formas: \n",
    "  1. Removendo 1 documento\n",
    "  2. Atualizando varios documentos"
   ]
  },
  {
   "cell_type": "code",
   "execution_count": 21,
   "id": "332094a6",
   "metadata": {},
   "outputs": [
    {
     "data": {
      "text/plain": [
       "<pymongo.results.DeleteResult at 0x1e7ed204500>"
      ]
     },
     "execution_count": 21,
     "metadata": {},
     "output_type": "execute_result"
    }
   ],
   "source": [
    "#Remover um:\n",
    "query = {\"Roll No\": 153}\n",
    "collection.delete_one(query)"
   ]
  },
  {
   "cell_type": "code",
   "execution_count": 22,
   "id": "9679ac85",
   "metadata": {},
   "outputs": [
    {
     "data": {
      "text/plain": [
       "<pymongo.results.DeleteResult at 0x1e7ed1f9740>"
      ]
     },
     "execution_count": 22,
     "metadata": {},
     "output_type": "execute_result"
    }
   ],
   "source": [
    "# Revomer varios:\n",
    "query = {\"Branch\":\"CSE\"}\n",
    "collection.delete_many(query)"
   ]
  },
  {
   "cell_type": "code",
   "execution_count": 23,
   "id": "8d0080fc",
   "metadata": {},
   "outputs": [],
   "source": [
    "# Removendo a coleção de dados\n",
    "# Basta apenas usar o comando .drop()\n",
    "collection.drop()"
   ]
  },
  {
   "cell_type": "code",
   "execution_count": null,
   "id": "1064fb4b",
   "metadata": {},
   "outputs": [],
   "source": []
  }
 ],
 "metadata": {
  "kernelspec": {
   "display_name": "Python 3 (ipykernel)",
   "language": "python",
   "name": "python3"
  },
  "language_info": {
   "codemirror_mode": {
    "name": "ipython",
    "version": 3
   },
   "file_extension": ".py",
   "mimetype": "text/x-python",
   "name": "python",
   "nbconvert_exporter": "python",
   "pygments_lexer": "ipython3",
   "version": "3.9.7"
  }
 },
 "nbformat": 4,
 "nbformat_minor": 5
}
